{
 "cells": [
  {
   "cell_type": "markdown",
   "metadata": {},
   "source": [
    "# Tutorial 2: Query PAIRS for climate data\n",
    "\n",
    "In this tutorial you will:  \n",
    "1. Perform a point query in PAIRS to retrieve climate data\n",
    "2. Plot the results as a time series with plotly \n",
    "\n",
    "Full documentation and further PAIRS examples are available here: https://pairs.res.ibm.com/tutorial/tutorials/api/index.html\n",
    "\n",
    "### The relevant data layers in PAIRS, and corresponding layer ids are:  \n",
    "ERA5 temperature: id = 49423  \n",
    "ERA5 rainfall: id = 49459  \n",
    "CHIRPS rainfall: id = 49316  \n",
    "Land cover (Copernicus): id = 30003  \n",
    "NDVI (MODIS): id = 71  \n",
    "JRC Global Surface Water: id = 517  \n",
    "Global Population Density (SEDAC): id = 48774  "
   ]
  },
  {
   "cell_type": "markdown",
   "metadata": {},
   "source": [
    "# Preparatory steps"
   ]
  },
  {
   "cell_type": "markdown",
   "metadata": {},
   "source": [
    "### Set up Watson studio project token - replace this with a cell generated for your Watson Studio project"
   ]
  },
  {
   "cell_type": "code",
   "execution_count": 63,
   "metadata": {},
   "outputs": [],
   "source": [
    "# @hidden_cell\n",
    "# The project token is an authorization token that is used to access project resources like data sources, connections, and used by platform APIs.\n"
   ]
  },
  {
   "cell_type": "markdown",
   "metadata": {},
   "source": [
    "### Install the PAIRS api library  "
   ]
  },
  {
   "cell_type": "code",
   "execution_count": 3,
   "metadata": {},
   "outputs": [
    {
     "name": "stdout",
     "output_type": "stream",
     "text": [
      "Collecting ibmpairs\n",
      "  Downloading ibmpairs-0.1.3-py2.py3-none-any.whl (43 kB)\n",
      "\u001b[K     |████████████████████████████████| 43 kB 1.3 MB/s eta 0:00:01\n",
      "\u001b[?25hCollecting pandas\n",
      "  Downloading pandas-1.2.4-cp38-cp38-macosx_10_9_x86_64.whl (10.5 MB)\n",
      "\u001b[K     |████████████████████████████████| 10.5 MB 4.2 MB/s eta 0:00:01\n",
      "\u001b[?25hRequirement already satisfied: jsonschema in /opt/miniconda3/lib/python3.8/site-packages (from ibmpairs) (3.2.0)\n",
      "Collecting fs\n",
      "  Downloading fs-2.4.13-py2.py3-none-any.whl (131 kB)\n",
      "\u001b[K     |████████████████████████████████| 131 kB 3.8 MB/s eta 0:00:01\n",
      "\u001b[?25hCollecting futures\n",
      "  Using cached futures-3.1.1-py3-none-any.whl (2.8 kB)\n",
      "Collecting numpy\n",
      "  Downloading numpy-1.20.3-cp38-cp38-macosx_10_9_x86_64.whl (16.0 MB)\n",
      "\u001b[K     |████████████████████████████████| 16.0 MB 4.1 MB/s eta 0:00:01\n",
      "\u001b[?25hCollecting shapely\n",
      "  Using cached Shapely-1.7.1-cp38-cp38-macosx_10_9_x86_64.whl (1.0 MB)\n",
      "Requirement already satisfied: requests>=2.4 in /opt/miniconda3/lib/python3.8/site-packages (from ibmpairs) (2.24.0)\n",
      "Collecting pytz\n",
      "  Downloading pytz-2021.1-py2.py3-none-any.whl (510 kB)\n",
      "\u001b[K     |████████████████████████████████| 510 kB 3.7 MB/s eta 0:00:01\n",
      "\u001b[?25hCollecting Pillow>=1.6\n",
      "  Downloading Pillow-8.2.0-cp38-cp38-macosx_10_10_x86_64.whl (2.8 MB)\n",
      "\u001b[K     |████████████████████████████████| 2.8 MB 3.8 MB/s eta 0:00:01\n",
      "\u001b[?25hProcessing /Users/annejones/Library/Caches/pip/wheels/8e/70/28/3d6ccd6e315f65f245da085482a2e1c7d14b90b30f239e2cf4/future-0.18.2-py3-none-any.whl\n",
      "Requirement already satisfied: python-dateutil>=2.7.3 in /opt/miniconda3/lib/python3.8/site-packages (from pandas->ibmpairs) (2.8.1)\n",
      "Requirement already satisfied: setuptools in /opt/miniconda3/lib/python3.8/site-packages (from jsonschema->ibmpairs) (50.3.1.post20201107)\n",
      "Requirement already satisfied: attrs>=17.4.0 in /opt/miniconda3/lib/python3.8/site-packages (from jsonschema->ibmpairs) (20.3.0)\n",
      "Requirement already satisfied: six>=1.11.0 in /opt/miniconda3/lib/python3.8/site-packages (from jsonschema->ibmpairs) (1.15.0)\n",
      "Requirement already satisfied: pyrsistent>=0.14.0 in /opt/miniconda3/lib/python3.8/site-packages (from jsonschema->ibmpairs) (0.17.3)\n",
      "Collecting appdirs~=1.4.3\n",
      "  Using cached appdirs-1.4.4-py2.py3-none-any.whl (9.6 kB)\n",
      "Requirement already satisfied: idna<3,>=2.5 in /opt/miniconda3/lib/python3.8/site-packages (from requests>=2.4->ibmpairs) (2.10)\n",
      "Requirement already satisfied: urllib3!=1.25.0,!=1.25.1,<1.26,>=1.21.1 in /opt/miniconda3/lib/python3.8/site-packages (from requests>=2.4->ibmpairs) (1.25.11)\n",
      "Requirement already satisfied: chardet<4,>=3.0.2 in /opt/miniconda3/lib/python3.8/site-packages (from requests>=2.4->ibmpairs) (3.0.4)\n",
      "Requirement already satisfied: certifi>=2017.4.17 in /opt/miniconda3/lib/python3.8/site-packages (from requests>=2.4->ibmpairs) (2020.6.20)\n",
      "Installing collected packages: numpy, pytz, pandas, appdirs, fs, futures, shapely, Pillow, future, ibmpairs\n",
      "Successfully installed Pillow-8.2.0 appdirs-1.4.4 fs-2.4.13 future-0.18.2 futures-3.1.1 ibmpairs-0.1.3 numpy-1.20.3 pandas-1.2.4 pytz-2021.1 shapely-1.7.1\n"
     ]
    }
   ],
   "source": [
    "!pip install ibmpairs"
   ]
  },
  {
   "cell_type": "markdown",
   "metadata": {},
   "source": [
    "### Load other required libraries"
   ]
  },
  {
   "cell_type": "code",
   "execution_count": 1,
   "metadata": {},
   "outputs": [],
   "source": [
    "import numpy as np\n",
    "import pandas as pd\n",
    "import math\n",
    "import matplotlib.pyplot as plt"
   ]
  },
  {
   "cell_type": "markdown",
   "metadata": {},
   "source": [
    "# PAIRS point query"
   ]
  },
  {
   "cell_type": "markdown",
   "metadata": {},
   "source": [
    "### Connect to PAIRS - Watson Studio version\n",
    "1. Copy the text string of your api key into a text file called \"pairspass-<yourname>.txt\"\n",
    "    e.g. \"pairspass-annejones.txt\".  \n",
    "      \n",
    "2. Upload this file to your Watson Studio project assets: From the main project page, navigate to Assets -> Data assets. Click \"New Data asset +\". Drag and drop the file and wait for the upload to complete.  \n",
    "3. Replace the file name and email address below with your file name and the email address you registered for PAIRS access."
   ]
  },
  {
   "cell_type": "code",
   "execution_count": 4,
   "metadata": {},
   "outputs": [],
   "source": [
    "from ibmpairs import paw, authentication\n",
    "my_file = project.get_file(\"pairspass-annejones.txt\") \n",
    "PAIRS_API_KEY=my_file.readline().decode('utf-8') \n",
    "PAIRS_USER = \"anne.jones@ibm.com\" # REPLACE WITH YOUR USERNAME\n",
    "PAIRS_SERVER = \"https://pairs.res.ibm.com\"\n",
    "OAUTH = authentication.OAuth2(api_key = PAIRS_API_KEY )"
   ]
  },
  {
   "cell_type": "code",
   "execution_count": null,
   "metadata": {},
   "outputs": [],
   "source": [
    "### Connect to PAIRS - local version"
   ]
  },
  {
   "cell_type": "code",
   "execution_count": 7,
   "metadata": {},
   "outputs": [],
   "source": [
    "# Local version\n",
    "from ibmpairs import paw, authentication \n",
    "datadir = \"/Users/annejones/\"\n",
    "with open(datadir + \"/annejones-pairspass.txt\") as my_file:\n",
    "    PAIRS_API_KEY=my_file.readline()\n",
    "PAIRS_USER = \"anne.jones@ibm.com\" # REPLACE WITH YOUR USERNAME\n",
    "PAIRS_SERVER = \"https://pairs.res.ibm.com\"\n",
    "OAUTH = authentication.OAuth2(api_key = PAIRS_API_KEY )"
   ]
  },
  {
   "cell_type": "markdown",
   "metadata": {},
   "source": [
    "### PAIRS point query\n",
    "The PAIRS query is specified using a dictionary which gives layer id, spatial domain required and time. This is passed to PAIRS as a json string. \n",
    "\n",
    "In this example we are going to perform a simple point query of ERA-5 temperature data for one month in 2015.  "
   ]
  },
  {
   "cell_type": "code",
   "execution_count": 8,
   "metadata": {},
   "outputs": [],
   "source": [
    "query_json = {\n",
    "      \"layers\" : [\n",
    "          {\n",
    "            \"type\" : \"raster\", \n",
    "            \"id\" : \"49423\"\n",
    "          }\n",
    "      ],\n",
    "      \"spatial\" : {\n",
    "          \"type\" : \"point\",  \n",
    "          \"coordinates\" : [\"-24.0\", \"29.0\"]\n",
    "      }, # note coords are specified as [latitude, longitude]\n",
    "      \"temporal\" : {\n",
    "          \"intervals\" : [\n",
    "          {\n",
    "              \"start\" : \"2015-01-01T00:00:00Z\", \n",
    "              \"end\" : \"2015-10-31T00:00:00Z\"\n",
    "          }\n",
    "      ]}\n",
    "  }"
   ]
  },
  {
   "cell_type": "markdown",
   "metadata": {},
   "source": [
    "### Use the PAIRS library to create a query object"
   ]
  },
  {
   "cell_type": "code",
   "execution_count": 9,
   "metadata": {},
   "outputs": [],
   "source": [
    "query = paw.PAIRSQuery(query_json, PAIRS_SERVER,  auth=OAUTH, authType='api-key') "
   ]
  },
  {
   "cell_type": "markdown",
   "metadata": {},
   "source": [
    "### Submit the query"
   ]
  },
  {
   "cell_type": "code",
   "execution_count": 10,
   "metadata": {},
   "outputs": [],
   "source": [
    "query.submit()"
   ]
  },
  {
   "cell_type": "markdown",
   "metadata": {},
   "source": [
    "### Retrieve the data, which is returned in a data frame"
   ]
  },
  {
   "cell_type": "code",
   "execution_count": 11,
   "metadata": {},
   "outputs": [
    {
     "data": {
      "text/html": [
       "<div>\n",
       "<style scoped>\n",
       "    .dataframe tbody tr th:only-of-type {\n",
       "        vertical-align: middle;\n",
       "    }\n",
       "\n",
       "    .dataframe tbody tr th {\n",
       "        vertical-align: top;\n",
       "    }\n",
       "\n",
       "    .dataframe thead th {\n",
       "        text-align: right;\n",
       "    }\n",
       "</style>\n",
       "<table border=\"1\" class=\"dataframe\">\n",
       "  <thead>\n",
       "    <tr style=\"text-align: right;\">\n",
       "      <th></th>\n",
       "      <th>layerId</th>\n",
       "      <th>timestamp</th>\n",
       "      <th>longitude</th>\n",
       "      <th>latitude</th>\n",
       "      <th>value</th>\n",
       "      <th>region</th>\n",
       "      <th>property</th>\n",
       "      <th>geometry</th>\n",
       "    </tr>\n",
       "  </thead>\n",
       "  <tbody>\n",
       "    <tr>\n",
       "      <th>0</th>\n",
       "      <td>49423</td>\n",
       "      <td>2015-01-01 01:00:00+00:00</td>\n",
       "      <td>29.0</td>\n",
       "      <td>-24.0</td>\n",
       "      <td>290.884399</td>\n",
       "      <td>NaN</td>\n",
       "      <td>NaN</td>\n",
       "      <td>POINT (29.00000 -24.00000)</td>\n",
       "    </tr>\n",
       "    <tr>\n",
       "      <th>1</th>\n",
       "      <td>49423</td>\n",
       "      <td>2015-01-01 02:00:00+00:00</td>\n",
       "      <td>29.0</td>\n",
       "      <td>-24.0</td>\n",
       "      <td>290.252533</td>\n",
       "      <td>NaN</td>\n",
       "      <td>NaN</td>\n",
       "      <td>POINT (29.00000 -24.00000)</td>\n",
       "    </tr>\n",
       "    <tr>\n",
       "      <th>2</th>\n",
       "      <td>49423</td>\n",
       "      <td>2015-01-01 03:00:00+00:00</td>\n",
       "      <td>29.0</td>\n",
       "      <td>-24.0</td>\n",
       "      <td>290.657440</td>\n",
       "      <td>NaN</td>\n",
       "      <td>NaN</td>\n",
       "      <td>POINT (29.00000 -24.00000)</td>\n",
       "    </tr>\n",
       "    <tr>\n",
       "      <th>3</th>\n",
       "      <td>49423</td>\n",
       "      <td>2015-01-01 04:00:00+00:00</td>\n",
       "      <td>29.0</td>\n",
       "      <td>-24.0</td>\n",
       "      <td>290.435699</td>\n",
       "      <td>NaN</td>\n",
       "      <td>NaN</td>\n",
       "      <td>POINT (29.00000 -24.00000)</td>\n",
       "    </tr>\n",
       "    <tr>\n",
       "      <th>4</th>\n",
       "      <td>49423</td>\n",
       "      <td>2015-01-01 05:00:00+00:00</td>\n",
       "      <td>29.0</td>\n",
       "      <td>-24.0</td>\n",
       "      <td>292.846100</td>\n",
       "      <td>NaN</td>\n",
       "      <td>NaN</td>\n",
       "      <td>POINT (29.00000 -24.00000)</td>\n",
       "    </tr>\n",
       "  </tbody>\n",
       "</table>\n",
       "</div>"
      ],
      "text/plain": [
       "   layerId                 timestamp  longitude  latitude       value  region  \\\n",
       "0    49423 2015-01-01 01:00:00+00:00       29.0     -24.0  290.884399     NaN   \n",
       "1    49423 2015-01-01 02:00:00+00:00       29.0     -24.0  290.252533     NaN   \n",
       "2    49423 2015-01-01 03:00:00+00:00       29.0     -24.0  290.657440     NaN   \n",
       "3    49423 2015-01-01 04:00:00+00:00       29.0     -24.0  290.435699     NaN   \n",
       "4    49423 2015-01-01 05:00:00+00:00       29.0     -24.0  292.846100     NaN   \n",
       "\n",
       "   property                    geometry  \n",
       "0       NaN  POINT (29.00000 -24.00000)  \n",
       "1       NaN  POINT (29.00000 -24.00000)  \n",
       "2       NaN  POINT (29.00000 -24.00000)  \n",
       "3       NaN  POINT (29.00000 -24.00000)  \n",
       "4       NaN  POINT (29.00000 -24.00000)  "
      ]
     },
     "execution_count": 11,
     "metadata": {},
     "output_type": "execute_result"
    }
   ],
   "source": [
    "query.vdf.head()"
   ]
  },
  {
   "cell_type": "code",
   "execution_count": null,
   "metadata": {},
   "outputs": [],
   "source": [
    "infostr = 'location: ' + str(yloc(iy, yo, res)) + ' N, ' + str(xloc(ix, xo, res)) + ' E' \n",
    "\n",
    "fig = make_subplots(rows=1, cols=1, shared_xaxes=True, \\\n",
    "                   subplot_titles = [\"Maximum Temperature for \" + infostr],\n",
    "                   vertical_spacing = 0.05)\n",
    "fig.add_trace(\n",
    "    go.Scatter(x=times, y=tmax[ix,iy,:], showlegend=False), \n",
    "    row=1, col=1) \n",
    "\n",
    "fig.update_layout(\n",
    "    autosize=False,\n",
    "    width=800,\n",
    "    height=900)\n",
    "fig.update_yaxes(title_text=\"Monthly mean Tmax [degC]\", row=1, col=1)\n",
    "fig.for_each_yaxis(lambda axis: axis.title.update(font=dict(size=12)))\n",
    "fig.show()"
   ]
  }
 ],
 "metadata": {
  "kernelspec": {
   "display_name": "aiscope-analytics-py38",
   "language": "python",
   "name": "aiscope-analytics-py38"
  },
  "language_info": {
   "codemirror_mode": {
    "name": "ipython",
    "version": 3
   },
   "file_extension": ".py",
   "mimetype": "text/x-python",
   "name": "python",
   "nbconvert_exporter": "python",
   "pygments_lexer": "ipython3",
   "version": "3.8.8"
  }
 },
 "nbformat": 4,
 "nbformat_minor": 1
}
