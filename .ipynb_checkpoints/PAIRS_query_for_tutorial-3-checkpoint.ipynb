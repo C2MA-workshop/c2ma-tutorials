{
 "cells": [
  {
   "cell_type": "markdown",
   "id": "broad-violence",
   "metadata": {},
   "source": [
    "# PAIRS query to download data required for tutorial 3"
   ]
  },
  {
   "cell_type": "markdown",
   "id": "greater-voice",
   "metadata": {},
   "source": [
    "# Preparatory steps"
   ]
  },
  {
   "cell_type": "markdown",
   "id": "light-adelaide",
   "metadata": {},
   "source": [
    "### Toggle here to run on Watson Studio or locally"
   ]
  },
  {
   "cell_type": "code",
   "execution_count": 1,
   "id": "usual-valuation",
   "metadata": {},
   "outputs": [],
   "source": [
    "running_watson_studio=False"
   ]
  },
  {
   "cell_type": "markdown",
   "id": "coupled-conference",
   "metadata": {},
   "source": [
    "### Set up Watson studio project token - replace project ids and tokens for your Watson Studio project as described in workshop setup instructions [here](https://github.com/C2MA-workshop/c2ma-docs)"
   ]
  },
  {
   "cell_type": "code",
   "execution_count": 2,
   "id": "veterinary-church",
   "metadata": {},
   "outputs": [],
   "source": [
    "# @hidden_cell\n",
    "# The project token is an authorization token that is used to access project resources like data sources, connections, and used by platform APIs.\n",
    "if running_watson_studio:\n",
    "    from project_lib import Project\n",
    "    project = Project(project_id='XXXX', project_access_token='XXXX')\n",
    "    pc = project.project_context"
   ]
  },
  {
   "cell_type": "markdown",
   "id": "coral-sending",
   "metadata": {},
   "source": [
    "### Install the PAIRS api library  "
   ]
  },
  {
   "cell_type": "code",
   "execution_count": 3,
   "id": "mighty-separation",
   "metadata": {},
   "outputs": [
    {
     "name": "stdout",
     "output_type": "stream",
     "text": [
      "Requirement already satisfied: ibmpairs in /opt/miniconda3/lib/python3.8/site-packages (0.1.3)\n",
      "Requirement already satisfied: fs in /opt/miniconda3/lib/python3.8/site-packages (from ibmpairs) (2.4.13)\n",
      "Requirement already satisfied: future in /opt/miniconda3/lib/python3.8/site-packages (from ibmpairs) (0.18.2)\n",
      "Requirement already satisfied: requests>=2.4 in /opt/miniconda3/lib/python3.8/site-packages (from ibmpairs) (2.24.0)\n",
      "Requirement already satisfied: Pillow>=1.6 in /opt/miniconda3/lib/python3.8/site-packages (from ibmpairs) (8.2.0)\n",
      "Requirement already satisfied: shapely in /opt/miniconda3/lib/python3.8/site-packages (from ibmpairs) (1.7.1)\n",
      "Requirement already satisfied: pytz in /opt/miniconda3/lib/python3.8/site-packages (from ibmpairs) (2021.1)\n",
      "Requirement already satisfied: numpy in /opt/miniconda3/lib/python3.8/site-packages (from ibmpairs) (1.20.3)\n",
      "Requirement already satisfied: jsonschema in /opt/miniconda3/lib/python3.8/site-packages (from ibmpairs) (3.2.0)\n",
      "Requirement already satisfied: futures in /opt/miniconda3/lib/python3.8/site-packages (from ibmpairs) (3.1.1)\n",
      "Requirement already satisfied: pandas in /opt/miniconda3/lib/python3.8/site-packages (from ibmpairs) (1.2.4)\n",
      "Requirement already satisfied: setuptools in /opt/miniconda3/lib/python3.8/site-packages (from fs->ibmpairs) (50.3.1.post20201107)\n",
      "Requirement already satisfied: appdirs~=1.4.3 in /opt/miniconda3/lib/python3.8/site-packages (from fs->ibmpairs) (1.4.4)\n",
      "Requirement already satisfied: six~=1.10 in /opt/miniconda3/lib/python3.8/site-packages (from fs->ibmpairs) (1.15.0)\n",
      "Requirement already satisfied: chardet<4,>=3.0.2 in /opt/miniconda3/lib/python3.8/site-packages (from requests>=2.4->ibmpairs) (3.0.4)\n",
      "Requirement already satisfied: urllib3!=1.25.0,!=1.25.1,<1.26,>=1.21.1 in /opt/miniconda3/lib/python3.8/site-packages (from requests>=2.4->ibmpairs) (1.25.11)\n",
      "Requirement already satisfied: certifi>=2017.4.17 in /opt/miniconda3/lib/python3.8/site-packages (from requests>=2.4->ibmpairs) (2020.6.20)\n",
      "Requirement already satisfied: idna<3,>=2.5 in /opt/miniconda3/lib/python3.8/site-packages (from requests>=2.4->ibmpairs) (2.10)\n",
      "Requirement already satisfied: attrs>=17.4.0 in /opt/miniconda3/lib/python3.8/site-packages (from jsonschema->ibmpairs) (20.3.0)\n",
      "Requirement already satisfied: pyrsistent>=0.14.0 in /opt/miniconda3/lib/python3.8/site-packages (from jsonschema->ibmpairs) (0.17.3)\n",
      "Requirement already satisfied: python-dateutil>=2.7.3 in /opt/miniconda3/lib/python3.8/site-packages (from pandas->ibmpairs) (2.8.1)\n"
     ]
    }
   ],
   "source": [
    "!pip install ibmpairs"
   ]
  },
  {
   "cell_type": "markdown",
   "id": "continued-lawrence",
   "metadata": {},
   "source": [
    "### Load the required libraries  "
   ]
  },
  {
   "cell_type": "code",
   "execution_count": 4,
   "id": "prime-gibson",
   "metadata": {},
   "outputs": [],
   "source": [
    "import numpy as np\n",
    "import pandas as pd\n",
    "import math\n",
    "import matplotlib.pyplot as plt\n",
    "from datetime import datetime\n",
    "import plotly.graph_objects as go\n",
    "from plotly.subplots import make_subplots"
   ]
  },
  {
   "cell_type": "markdown",
   "id": "composed-saturn",
   "metadata": {},
   "source": [
    "# Retrieve time series data from PAIRS "
   ]
  },
  {
   "cell_type": "markdown",
   "id": "similar-timothy",
   "metadata": {},
   "source": [
    "### Connect to PAIRS - Watson Studio version\n",
    "You should already have copied your api key to your Watson Studio project following the setup instrictions [here](https://github.com/C2MA-workshop/c2ma-docs).\n",
    "\n",
    "If not please do so now, then return to this tutorial."
   ]
  },
  {
   "cell_type": "markdown",
   "id": "incoming-houston",
   "metadata": {},
   "source": [
    "### PAIRS authentication in Watson Studio"
   ]
  },
  {
   "cell_type": "code",
   "execution_count": 5,
   "id": "interstate-chase",
   "metadata": {},
   "outputs": [],
   "source": [
    "if running_watson_studio:\n",
    "    from ibmpairs import paw, authentication\n",
    "    my_file = project.get_file(\"pairspass.txt\") \n",
    "    PAIRS_API_KEY=my_file.readline().decode('utf-8') \n",
    "    PAIRS_SERVER = \"https://pairs.res.ibm.com\"\n",
    "    OAUTH = authentication.OAuth2(api_key = PAIRS_API_KEY )"
   ]
  },
  {
   "cell_type": "markdown",
   "id": "front-equipment",
   "metadata": {},
   "source": [
    "### PAIRS authentication - local version"
   ]
  },
  {
   "cell_type": "code",
   "execution_count": 6,
   "id": "federal-logging",
   "metadata": {},
   "outputs": [],
   "source": [
    "# Local version\n",
    "if not running_watson_studio:\n",
    "    from ibmpairs import paw, authentication \n",
    "    with open(\"/Users/annejones/pairspass.txt\") as my_file: #change to location of your pairspass.txt file\n",
    "        PAIRS_API_KEY=my_file.readline()\n",
    "        PAIRS_SERVER = \"https://pairs.res.ibm.com\"\n",
    "        OAUTH = authentication.OAuth2(api_key = PAIRS_API_KEY )"
   ]
  },
  {
   "cell_type": "markdown",
   "id": "tough-boards",
   "metadata": {},
   "source": [
    "### Create dictionary to store the layer ids we may want to use"
   ]
  },
  {
   "cell_type": "code",
   "execution_count": 7,
   "id": "living-leadership",
   "metadata": {},
   "outputs": [],
   "source": [
    "pairs_dict = {\n",
    "    'ERA5 temperature' : 49423,\n",
    "    'ERA5 rainfall' : 49459,\n",
    "    'SEDAC population' : 48774\n",
    "}"
   ]
  },
  {
   "cell_type": "markdown",
   "id": "sonic-carolina",
   "metadata": {},
   "source": [
    "### Select a location for which we want to run the model"
   ]
  },
  {
   "cell_type": "code",
   "execution_count": 9,
   "id": "stuck-engineering",
   "metadata": {},
   "outputs": [],
   "source": [
    "lat1 = -24.99\n",
    "lon1 = 31.59\n",
    "\n",
    "lat2 = -22.97\n",
    "lon2 = 30.50\n",
    "\n",
    "lat3 = -22.27\n",
    "lon3 = 29.90\n",
    "\n",
    "locations = [str(lat1), str(lon1), str(lat2), str(lon2), str(lat3), str(lon3)]"
   ]
  },
  {
   "cell_type": "markdown",
   "id": "generous-french",
   "metadata": {},
   "source": [
    "### Create point query json for two layers simultaneously\n",
    "Query all the locations, for 20 years"
   ]
  },
  {
   "cell_type": "code",
   "execution_count": 10,
   "id": "collected-japan",
   "metadata": {},
   "outputs": [],
   "source": [
    "query_json = {\n",
    "      \"layers\" : [\n",
    "          {\"type\" : \"raster\", \"id\" : pairs_dict[\"ERA5 temperature\"]},\n",
    "          {\"type\" : \"raster\", \"id\" : pairs_dict[\"ERA5 rainfall\"]}\n",
    "      ],\n",
    "      \"spatial\" : {\"type\" : \"point\",  \"coordinates\" : locations}, \n",
    "      \"temporal\" : {\"intervals\" : [\n",
    "          {\"start\" : \"2001-01-01T00:00:00Z\", \"end\" : \"2021-01-01T00:00:00Z\"}\n",
    "      ]}\n",
    "  }"
   ]
  },
  {
   "cell_type": "code",
   "execution_count": 11,
   "id": "electronic-medication",
   "metadata": {},
   "outputs": [],
   "source": [
    "# create query object\n",
    "query = paw.PAIRSQuery(query_json, PAIRS_SERVER,  auth=OAUTH, authType='api-key') \n",
    "# submit the query\n",
    "query.submit()"
   ]
  },
  {
   "cell_type": "code",
   "execution_count": 12,
   "id": "recorded-water",
   "metadata": {},
   "outputs": [
    {
     "data": {
      "text/html": [
       "<div>\n",
       "<style scoped>\n",
       "    .dataframe tbody tr th:only-of-type {\n",
       "        vertical-align: middle;\n",
       "    }\n",
       "\n",
       "    .dataframe tbody tr th {\n",
       "        vertical-align: top;\n",
       "    }\n",
       "\n",
       "    .dataframe thead th {\n",
       "        text-align: right;\n",
       "    }\n",
       "</style>\n",
       "<table border=\"1\" class=\"dataframe\">\n",
       "  <thead>\n",
       "    <tr style=\"text-align: right;\">\n",
       "      <th></th>\n",
       "      <th>layerId</th>\n",
       "      <th>timestamp</th>\n",
       "      <th>longitude</th>\n",
       "      <th>latitude</th>\n",
       "      <th>value</th>\n",
       "      <th>region</th>\n",
       "      <th>property</th>\n",
       "      <th>geometry</th>\n",
       "    </tr>\n",
       "  </thead>\n",
       "  <tbody>\n",
       "    <tr>\n",
       "      <th>0</th>\n",
       "      <td>49423</td>\n",
       "      <td>2001-01-01 01:00:00+00:00</td>\n",
       "      <td>31.59</td>\n",
       "      <td>-24.99</td>\n",
       "      <td>294.261505</td>\n",
       "      <td>NaN</td>\n",
       "      <td>NaN</td>\n",
       "      <td>POINT (31.59000 -24.99000)</td>\n",
       "    </tr>\n",
       "    <tr>\n",
       "      <th>1</th>\n",
       "      <td>49423</td>\n",
       "      <td>2001-01-01 01:00:00+00:00</td>\n",
       "      <td>30.50</td>\n",
       "      <td>-22.97</td>\n",
       "      <td>293.807953</td>\n",
       "      <td>NaN</td>\n",
       "      <td>NaN</td>\n",
       "      <td>POINT (30.50000 -22.97000)</td>\n",
       "    </tr>\n",
       "    <tr>\n",
       "      <th>2</th>\n",
       "      <td>49423</td>\n",
       "      <td>2001-01-01 01:00:00+00:00</td>\n",
       "      <td>29.90</td>\n",
       "      <td>-22.27</td>\n",
       "      <td>297.289764</td>\n",
       "      <td>NaN</td>\n",
       "      <td>NaN</td>\n",
       "      <td>POINT (29.90000 -22.27000)</td>\n",
       "    </tr>\n",
       "    <tr>\n",
       "      <th>3</th>\n",
       "      <td>49423</td>\n",
       "      <td>2001-01-01 02:00:00+00:00</td>\n",
       "      <td>31.59</td>\n",
       "      <td>-24.99</td>\n",
       "      <td>294.341980</td>\n",
       "      <td>NaN</td>\n",
       "      <td>NaN</td>\n",
       "      <td>POINT (31.59000 -24.99000)</td>\n",
       "    </tr>\n",
       "    <tr>\n",
       "      <th>4</th>\n",
       "      <td>49423</td>\n",
       "      <td>2001-01-01 02:00:00+00:00</td>\n",
       "      <td>30.50</td>\n",
       "      <td>-22.97</td>\n",
       "      <td>293.883362</td>\n",
       "      <td>NaN</td>\n",
       "      <td>NaN</td>\n",
       "      <td>POINT (30.50000 -22.97000)</td>\n",
       "    </tr>\n",
       "  </tbody>\n",
       "</table>\n",
       "</div>"
      ],
      "text/plain": [
       "   layerId                 timestamp  longitude  latitude       value  region  \\\n",
       "0    49423 2001-01-01 01:00:00+00:00      31.59    -24.99  294.261505     NaN   \n",
       "1    49423 2001-01-01 01:00:00+00:00      30.50    -22.97  293.807953     NaN   \n",
       "2    49423 2001-01-01 01:00:00+00:00      29.90    -22.27  297.289764     NaN   \n",
       "3    49423 2001-01-01 02:00:00+00:00      31.59    -24.99  294.341980     NaN   \n",
       "4    49423 2001-01-01 02:00:00+00:00      30.50    -22.97  293.883362     NaN   \n",
       "\n",
       "   property                    geometry  \n",
       "0       NaN  POINT (31.59000 -24.99000)  \n",
       "1       NaN  POINT (30.50000 -22.97000)  \n",
       "2       NaN  POINT (29.90000 -22.27000)  \n",
       "3       NaN  POINT (31.59000 -24.99000)  \n",
       "4       NaN  POINT (30.50000 -22.97000)  "
      ]
     },
     "execution_count": 12,
     "metadata": {},
     "output_type": "execute_result"
    }
   ],
   "source": [
    "# check the data returned\n",
    "query.vdf.head()"
   ]
  },
  {
   "cell_type": "markdown",
   "id": "american-african",
   "metadata": {},
   "source": [
    "# Post-processing of the queried data"
   ]
  },
  {
   "cell_type": "markdown",
   "id": "representative-belfast",
   "metadata": {},
   "source": [
    "### Add variable name to the dataframe for ease of use"
   ]
  },
  {
   "cell_type": "code",
   "execution_count": 13,
   "id": "mineral-argument",
   "metadata": {},
   "outputs": [],
   "source": [
    "query.vdf['var'] = None\n",
    "query.vdf.loc[query.vdf['layerId']==pairs_dict[\"ERA5 temperature\"], 'var'] = 'temperature'\n",
    "query.vdf.loc[query.vdf['layerId']==pairs_dict[\"ERA5 rainfall\"], 'var'] = 'rainfall'"
   ]
  },
  {
   "cell_type": "markdown",
   "id": "dense-steel",
   "metadata": {},
   "source": [
    "### Add consituents of date - day, month, year "
   ]
  },
  {
   "cell_type": "code",
   "execution_count": 14,
   "id": "superior-alignment",
   "metadata": {},
   "outputs": [
    {
     "data": {
      "text/html": [
       "<div>\n",
       "<style scoped>\n",
       "    .dataframe tbody tr th:only-of-type {\n",
       "        vertical-align: middle;\n",
       "    }\n",
       "\n",
       "    .dataframe tbody tr th {\n",
       "        vertical-align: top;\n",
       "    }\n",
       "\n",
       "    .dataframe thead th {\n",
       "        text-align: right;\n",
       "    }\n",
       "</style>\n",
       "<table border=\"1\" class=\"dataframe\">\n",
       "  <thead>\n",
       "    <tr style=\"text-align: right;\">\n",
       "      <th></th>\n",
       "      <th>layerId</th>\n",
       "      <th>timestamp</th>\n",
       "      <th>longitude</th>\n",
       "      <th>latitude</th>\n",
       "      <th>value</th>\n",
       "      <th>region</th>\n",
       "      <th>property</th>\n",
       "      <th>geometry</th>\n",
       "      <th>var</th>\n",
       "      <th>day</th>\n",
       "      <th>month</th>\n",
       "      <th>year</th>\n",
       "    </tr>\n",
       "  </thead>\n",
       "  <tbody>\n",
       "    <tr>\n",
       "      <th>0</th>\n",
       "      <td>49423</td>\n",
       "      <td>2001-01-01 01:00:00+00:00</td>\n",
       "      <td>31.59</td>\n",
       "      <td>-24.99</td>\n",
       "      <td>294.261505</td>\n",
       "      <td>NaN</td>\n",
       "      <td>NaN</td>\n",
       "      <td>POINT (31.59000 -24.99000)</td>\n",
       "      <td>temperature</td>\n",
       "      <td>1</td>\n",
       "      <td>1</td>\n",
       "      <td>2001</td>\n",
       "    </tr>\n",
       "    <tr>\n",
       "      <th>1</th>\n",
       "      <td>49423</td>\n",
       "      <td>2001-01-01 01:00:00+00:00</td>\n",
       "      <td>30.50</td>\n",
       "      <td>-22.97</td>\n",
       "      <td>293.807953</td>\n",
       "      <td>NaN</td>\n",
       "      <td>NaN</td>\n",
       "      <td>POINT (30.50000 -22.97000)</td>\n",
       "      <td>temperature</td>\n",
       "      <td>1</td>\n",
       "      <td>1</td>\n",
       "      <td>2001</td>\n",
       "    </tr>\n",
       "    <tr>\n",
       "      <th>2</th>\n",
       "      <td>49423</td>\n",
       "      <td>2001-01-01 01:00:00+00:00</td>\n",
       "      <td>29.90</td>\n",
       "      <td>-22.27</td>\n",
       "      <td>297.289764</td>\n",
       "      <td>NaN</td>\n",
       "      <td>NaN</td>\n",
       "      <td>POINT (29.90000 -22.27000)</td>\n",
       "      <td>temperature</td>\n",
       "      <td>1</td>\n",
       "      <td>1</td>\n",
       "      <td>2001</td>\n",
       "    </tr>\n",
       "    <tr>\n",
       "      <th>3</th>\n",
       "      <td>49423</td>\n",
       "      <td>2001-01-01 02:00:00+00:00</td>\n",
       "      <td>31.59</td>\n",
       "      <td>-24.99</td>\n",
       "      <td>294.341980</td>\n",
       "      <td>NaN</td>\n",
       "      <td>NaN</td>\n",
       "      <td>POINT (31.59000 -24.99000)</td>\n",
       "      <td>temperature</td>\n",
       "      <td>1</td>\n",
       "      <td>1</td>\n",
       "      <td>2001</td>\n",
       "    </tr>\n",
       "    <tr>\n",
       "      <th>4</th>\n",
       "      <td>49423</td>\n",
       "      <td>2001-01-01 02:00:00+00:00</td>\n",
       "      <td>30.50</td>\n",
       "      <td>-22.97</td>\n",
       "      <td>293.883362</td>\n",
       "      <td>NaN</td>\n",
       "      <td>NaN</td>\n",
       "      <td>POINT (30.50000 -22.97000)</td>\n",
       "      <td>temperature</td>\n",
       "      <td>1</td>\n",
       "      <td>1</td>\n",
       "      <td>2001</td>\n",
       "    </tr>\n",
       "  </tbody>\n",
       "</table>\n",
       "</div>"
      ],
      "text/plain": [
       "   layerId                 timestamp  longitude  latitude       value  region  \\\n",
       "0    49423 2001-01-01 01:00:00+00:00      31.59    -24.99  294.261505     NaN   \n",
       "1    49423 2001-01-01 01:00:00+00:00      30.50    -22.97  293.807953     NaN   \n",
       "2    49423 2001-01-01 01:00:00+00:00      29.90    -22.27  297.289764     NaN   \n",
       "3    49423 2001-01-01 02:00:00+00:00      31.59    -24.99  294.341980     NaN   \n",
       "4    49423 2001-01-01 02:00:00+00:00      30.50    -22.97  293.883362     NaN   \n",
       "\n",
       "   property                    geometry          var  day  month  year  \n",
       "0       NaN  POINT (31.59000 -24.99000)  temperature    1      1  2001  \n",
       "1       NaN  POINT (30.50000 -22.97000)  temperature    1      1  2001  \n",
       "2       NaN  POINT (29.90000 -22.27000)  temperature    1      1  2001  \n",
       "3       NaN  POINT (31.59000 -24.99000)  temperature    1      1  2001  \n",
       "4       NaN  POINT (30.50000 -22.97000)  temperature    1      1  2001  "
      ]
     },
     "execution_count": 14,
     "metadata": {},
     "output_type": "execute_result"
    }
   ],
   "source": [
    "query.vdf['day'] = query.vdf['timestamp'].dt.day\n",
    "query.vdf['month'] = query.vdf['timestamp'].dt.month\n",
    "query.vdf['year'] = query.vdf['timestamp'].dt.year\n",
    "query.vdf.head()"
   ]
  },
  {
   "cell_type": "markdown",
   "id": "false-mitchell",
   "metadata": {},
   "source": [
    "### Transform units (temperature in degrees Celcius and rainfall in mm)"
   ]
  },
  {
   "cell_type": "code",
   "execution_count": 15,
   "id": "fifty-wilson",
   "metadata": {},
   "outputs": [],
   "source": [
    "query.vdf.loc[query.vdf['var']=='temperature', 'value'] = query.vdf.loc[query.vdf['var']=='temperature', 'value'] - 273.15\n",
    "query.vdf.loc[query.vdf['var']=='rainfall', 'value'] = query.vdf.loc[query.vdf['var']=='rainfall', 'value']*1000.0 # native units are m per hour"
   ]
  },
  {
   "cell_type": "markdown",
   "id": "broad-mexican",
   "metadata": {},
   "source": [
    "### Average from native hourly (ERA5) to daily data by aggregating the data frame"
   ]
  },
  {
   "cell_type": "code",
   "execution_count": 16,
   "id": "wanted-solomon",
   "metadata": {},
   "outputs": [
    {
     "data": {
      "text/html": [
       "<div>\n",
       "<style scoped>\n",
       "    .dataframe tbody tr th:only-of-type {\n",
       "        vertical-align: middle;\n",
       "    }\n",
       "\n",
       "    .dataframe tbody tr th {\n",
       "        vertical-align: top;\n",
       "    }\n",
       "\n",
       "    .dataframe thead th {\n",
       "        text-align: right;\n",
       "    }\n",
       "</style>\n",
       "<table border=\"1\" class=\"dataframe\">\n",
       "  <thead>\n",
       "    <tr style=\"text-align: right;\">\n",
       "      <th></th>\n",
       "      <th>layerId</th>\n",
       "      <th>day</th>\n",
       "      <th>month</th>\n",
       "      <th>year</th>\n",
       "      <th>longitude</th>\n",
       "      <th>latitude</th>\n",
       "      <th>var</th>\n",
       "      <th>value</th>\n",
       "      <th>region</th>\n",
       "      <th>property</th>\n",
       "    </tr>\n",
       "  </thead>\n",
       "  <tbody>\n",
       "    <tr>\n",
       "      <th>0</th>\n",
       "      <td>49423</td>\n",
       "      <td>1</td>\n",
       "      <td>1</td>\n",
       "      <td>2001</td>\n",
       "      <td>29.90</td>\n",
       "      <td>-22.27</td>\n",
       "      <td>temperature</td>\n",
       "      <td>29.974467</td>\n",
       "      <td>NaN</td>\n",
       "      <td>NaN</td>\n",
       "    </tr>\n",
       "    <tr>\n",
       "      <th>1</th>\n",
       "      <td>49423</td>\n",
       "      <td>1</td>\n",
       "      <td>1</td>\n",
       "      <td>2001</td>\n",
       "      <td>30.50</td>\n",
       "      <td>-22.97</td>\n",
       "      <td>temperature</td>\n",
       "      <td>24.973081</td>\n",
       "      <td>NaN</td>\n",
       "      <td>NaN</td>\n",
       "    </tr>\n",
       "    <tr>\n",
       "      <th>2</th>\n",
       "      <td>49423</td>\n",
       "      <td>1</td>\n",
       "      <td>1</td>\n",
       "      <td>2001</td>\n",
       "      <td>31.59</td>\n",
       "      <td>-24.99</td>\n",
       "      <td>temperature</td>\n",
       "      <td>24.669413</td>\n",
       "      <td>NaN</td>\n",
       "      <td>NaN</td>\n",
       "    </tr>\n",
       "    <tr>\n",
       "      <th>3</th>\n",
       "      <td>49423</td>\n",
       "      <td>1</td>\n",
       "      <td>1</td>\n",
       "      <td>2002</td>\n",
       "      <td>29.90</td>\n",
       "      <td>-22.27</td>\n",
       "      <td>temperature</td>\n",
       "      <td>27.763040</td>\n",
       "      <td>NaN</td>\n",
       "      <td>NaN</td>\n",
       "    </tr>\n",
       "    <tr>\n",
       "      <th>4</th>\n",
       "      <td>49423</td>\n",
       "      <td>1</td>\n",
       "      <td>1</td>\n",
       "      <td>2002</td>\n",
       "      <td>30.50</td>\n",
       "      <td>-22.97</td>\n",
       "      <td>temperature</td>\n",
       "      <td>23.332628</td>\n",
       "      <td>NaN</td>\n",
       "      <td>NaN</td>\n",
       "    </tr>\n",
       "    <tr>\n",
       "      <th>...</th>\n",
       "      <td>...</td>\n",
       "      <td>...</td>\n",
       "      <td>...</td>\n",
       "      <td>...</td>\n",
       "      <td>...</td>\n",
       "      <td>...</td>\n",
       "      <td>...</td>\n",
       "      <td>...</td>\n",
       "      <td>...</td>\n",
       "      <td>...</td>\n",
       "    </tr>\n",
       "    <tr>\n",
       "      <th>43831</th>\n",
       "      <td>49459</td>\n",
       "      <td>31</td>\n",
       "      <td>12</td>\n",
       "      <td>2019</td>\n",
       "      <td>30.50</td>\n",
       "      <td>-22.97</td>\n",
       "      <td>rainfall</td>\n",
       "      <td>0.028727</td>\n",
       "      <td>NaN</td>\n",
       "      <td>NaN</td>\n",
       "    </tr>\n",
       "    <tr>\n",
       "      <th>43832</th>\n",
       "      <td>49459</td>\n",
       "      <td>31</td>\n",
       "      <td>12</td>\n",
       "      <td>2019</td>\n",
       "      <td>31.59</td>\n",
       "      <td>-24.99</td>\n",
       "      <td>rainfall</td>\n",
       "      <td>0.017131</td>\n",
       "      <td>NaN</td>\n",
       "      <td>NaN</td>\n",
       "    </tr>\n",
       "    <tr>\n",
       "      <th>43833</th>\n",
       "      <td>49459</td>\n",
       "      <td>31</td>\n",
       "      <td>12</td>\n",
       "      <td>2020</td>\n",
       "      <td>29.90</td>\n",
       "      <td>-22.27</td>\n",
       "      <td>rainfall</td>\n",
       "      <td>0.033201</td>\n",
       "      <td>NaN</td>\n",
       "      <td>NaN</td>\n",
       "    </tr>\n",
       "    <tr>\n",
       "      <th>43834</th>\n",
       "      <td>49459</td>\n",
       "      <td>31</td>\n",
       "      <td>12</td>\n",
       "      <td>2020</td>\n",
       "      <td>30.50</td>\n",
       "      <td>-22.97</td>\n",
       "      <td>rainfall</td>\n",
       "      <td>0.067392</td>\n",
       "      <td>NaN</td>\n",
       "      <td>NaN</td>\n",
       "    </tr>\n",
       "    <tr>\n",
       "      <th>43835</th>\n",
       "      <td>49459</td>\n",
       "      <td>31</td>\n",
       "      <td>12</td>\n",
       "      <td>2020</td>\n",
       "      <td>31.59</td>\n",
       "      <td>-24.99</td>\n",
       "      <td>rainfall</td>\n",
       "      <td>0.069690</td>\n",
       "      <td>NaN</td>\n",
       "      <td>NaN</td>\n",
       "    </tr>\n",
       "  </tbody>\n",
       "</table>\n",
       "<p>43836 rows × 10 columns</p>\n",
       "</div>"
      ],
      "text/plain": [
       "       layerId  day  month  year  longitude  latitude          var      value  \\\n",
       "0        49423    1      1  2001      29.90    -22.27  temperature  29.974467   \n",
       "1        49423    1      1  2001      30.50    -22.97  temperature  24.973081   \n",
       "2        49423    1      1  2001      31.59    -24.99  temperature  24.669413   \n",
       "3        49423    1      1  2002      29.90    -22.27  temperature  27.763040   \n",
       "4        49423    1      1  2002      30.50    -22.97  temperature  23.332628   \n",
       "...        ...  ...    ...   ...        ...       ...          ...        ...   \n",
       "43831    49459   31     12  2019      30.50    -22.97     rainfall   0.028727   \n",
       "43832    49459   31     12  2019      31.59    -24.99     rainfall   0.017131   \n",
       "43833    49459   31     12  2020      29.90    -22.27     rainfall   0.033201   \n",
       "43834    49459   31     12  2020      30.50    -22.97     rainfall   0.067392   \n",
       "43835    49459   31     12  2020      31.59    -24.99     rainfall   0.069690   \n",
       "\n",
       "       region  property  \n",
       "0         NaN       NaN  \n",
       "1         NaN       NaN  \n",
       "2         NaN       NaN  \n",
       "3         NaN       NaN  \n",
       "4         NaN       NaN  \n",
       "...       ...       ...  \n",
       "43831     NaN       NaN  \n",
       "43832     NaN       NaN  \n",
       "43833     NaN       NaN  \n",
       "43834     NaN       NaN  \n",
       "43835     NaN       NaN  \n",
       "\n",
       "[43836 rows x 10 columns]"
      ]
     },
     "execution_count": 16,
     "metadata": {},
     "output_type": "execute_result"
    }
   ],
   "source": [
    "vars_agg = query.vdf.groupby(['layerId', 'day', 'month', \n",
    "                              'year', 'longitude', 'latitude', 'var'], \n",
    "                             as_index=False).aggregate('mean')\n",
    "vars_agg"
   ]
  },
  {
   "cell_type": "markdown",
   "id": "departmental-fifty",
   "metadata": {},
   "source": [
    "### Convert rainfall to mm per day by multiplying by 24"
   ]
  },
  {
   "cell_type": "code",
   "execution_count": 17,
   "id": "constitutional-humanity",
   "metadata": {},
   "outputs": [],
   "source": [
    "vars_agg.loc[vars_agg['var']=='rainfall', 'value'] = vars_agg.loc[vars_agg['var']=='rainfall', 'value']*24.0"
   ]
  },
  {
   "cell_type": "markdown",
   "id": "incorporate-glass",
   "metadata": {},
   "source": [
    "### Convert the dataframe to \"wide\" format i.e. multiple variables for the same date"
   ]
  },
  {
   "cell_type": "code",
   "execution_count": 18,
   "id": "floppy-testing",
   "metadata": {},
   "outputs": [],
   "source": [
    "cols_to_keep = ['day', 'month', 'year', 'longitude', 'latitude']\n",
    "vars_wide = vars_agg[vars_agg['var']=='rainfall'].copy().reset_index(drop=True)\n",
    "vars_wide.rename(columns = {'value': 'rainfall'}, inplace=True)\n",
    "vars_wide.drop(columns=['var', 'region', 'property', 'layerId'], inplace=True)\n",
    "\n",
    "vars_wide2 = vars_agg[vars_agg['var']=='temperature'].copy().reset_index(drop=True)\n",
    "vars_wide2.rename(columns = {'value': 'temperature'}, inplace=True)\n",
    "vars_wide2.drop(columns=['var', 'region', 'property','layerId'], inplace=True)\n",
    "\n",
    "vars_wide = vars_wide.merge(vars_wide2, how = 'inner', on = ['day', 'month', 'year', 'longitude', 'latitude'])\n",
    "df = vars_wide"
   ]
  },
  {
   "cell_type": "code",
   "execution_count": 19,
   "id": "arranged-newton",
   "metadata": {},
   "outputs": [
    {
     "data": {
      "text/html": [
       "<div>\n",
       "<style scoped>\n",
       "    .dataframe tbody tr th:only-of-type {\n",
       "        vertical-align: middle;\n",
       "    }\n",
       "\n",
       "    .dataframe tbody tr th {\n",
       "        vertical-align: top;\n",
       "    }\n",
       "\n",
       "    .dataframe thead th {\n",
       "        text-align: right;\n",
       "    }\n",
       "</style>\n",
       "<table border=\"1\" class=\"dataframe\">\n",
       "  <thead>\n",
       "    <tr style=\"text-align: right;\">\n",
       "      <th></th>\n",
       "      <th>day</th>\n",
       "      <th>month</th>\n",
       "      <th>year</th>\n",
       "      <th>longitude</th>\n",
       "      <th>latitude</th>\n",
       "      <th>rainfall</th>\n",
       "      <th>temperature</th>\n",
       "    </tr>\n",
       "  </thead>\n",
       "  <tbody>\n",
       "    <tr>\n",
       "      <th>0</th>\n",
       "      <td>1</td>\n",
       "      <td>1</td>\n",
       "      <td>2001</td>\n",
       "      <td>29.90</td>\n",
       "      <td>-22.27</td>\n",
       "      <td>0.417360</td>\n",
       "      <td>29.974467</td>\n",
       "    </tr>\n",
       "    <tr>\n",
       "      <th>1</th>\n",
       "      <td>1</td>\n",
       "      <td>1</td>\n",
       "      <td>2001</td>\n",
       "      <td>30.50</td>\n",
       "      <td>-22.97</td>\n",
       "      <td>1.939459</td>\n",
       "      <td>24.973081</td>\n",
       "    </tr>\n",
       "    <tr>\n",
       "      <th>2</th>\n",
       "      <td>1</td>\n",
       "      <td>1</td>\n",
       "      <td>2001</td>\n",
       "      <td>31.59</td>\n",
       "      <td>-24.99</td>\n",
       "      <td>38.258316</td>\n",
       "      <td>24.669413</td>\n",
       "    </tr>\n",
       "    <tr>\n",
       "      <th>3</th>\n",
       "      <td>1</td>\n",
       "      <td>1</td>\n",
       "      <td>2002</td>\n",
       "      <td>29.90</td>\n",
       "      <td>-22.27</td>\n",
       "      <td>0.117372</td>\n",
       "      <td>27.763040</td>\n",
       "    </tr>\n",
       "    <tr>\n",
       "      <th>4</th>\n",
       "      <td>1</td>\n",
       "      <td>1</td>\n",
       "      <td>2002</td>\n",
       "      <td>30.50</td>\n",
       "      <td>-22.97</td>\n",
       "      <td>0.091737</td>\n",
       "      <td>23.332628</td>\n",
       "    </tr>\n",
       "  </tbody>\n",
       "</table>\n",
       "</div>"
      ],
      "text/plain": [
       "   day  month  year  longitude  latitude   rainfall  temperature\n",
       "0    1      1  2001      29.90    -22.27   0.417360    29.974467\n",
       "1    1      1  2001      30.50    -22.97   1.939459    24.973081\n",
       "2    1      1  2001      31.59    -24.99  38.258316    24.669413\n",
       "3    1      1  2002      29.90    -22.27   0.117372    27.763040\n",
       "4    1      1  2002      30.50    -22.97   0.091737    23.332628"
      ]
     },
     "execution_count": 19,
     "metadata": {},
     "output_type": "execute_result"
    }
   ],
   "source": [
    "df.head()"
   ]
  },
  {
   "cell_type": "markdown",
   "id": "lined-canadian",
   "metadata": {},
   "source": [
    "### Add a datetime corresponding to each day"
   ]
  },
  {
   "cell_type": "code",
   "execution_count": 20,
   "id": "trained-buddy",
   "metadata": {},
   "outputs": [],
   "source": [
    "def datetime_from_components(year, month, day):\n",
    "    dt = np.datetime64(str(year) + '-' + str(month).zfill(2) + '-' + str(day).zfill(2))\n",
    "    return dt"
   ]
  },
  {
   "cell_type": "code",
   "execution_count": 21,
   "id": "handmade-russell",
   "metadata": {},
   "outputs": [],
   "source": [
    "df['datetime'] = pd.to_datetime(df[['year', 'month', 'day']])"
   ]
  },
  {
   "cell_type": "code",
   "execution_count": 22,
   "id": "swiss-disaster",
   "metadata": {},
   "outputs": [
    {
     "data": {
      "text/html": [
       "<div>\n",
       "<style scoped>\n",
       "    .dataframe tbody tr th:only-of-type {\n",
       "        vertical-align: middle;\n",
       "    }\n",
       "\n",
       "    .dataframe tbody tr th {\n",
       "        vertical-align: top;\n",
       "    }\n",
       "\n",
       "    .dataframe thead th {\n",
       "        text-align: right;\n",
       "    }\n",
       "</style>\n",
       "<table border=\"1\" class=\"dataframe\">\n",
       "  <thead>\n",
       "    <tr style=\"text-align: right;\">\n",
       "      <th></th>\n",
       "      <th>day</th>\n",
       "      <th>month</th>\n",
       "      <th>year</th>\n",
       "      <th>longitude</th>\n",
       "      <th>latitude</th>\n",
       "      <th>rainfall</th>\n",
       "      <th>temperature</th>\n",
       "      <th>datetime</th>\n",
       "    </tr>\n",
       "  </thead>\n",
       "  <tbody>\n",
       "    <tr>\n",
       "      <th>0</th>\n",
       "      <td>1</td>\n",
       "      <td>1</td>\n",
       "      <td>2001</td>\n",
       "      <td>29.90</td>\n",
       "      <td>-22.27</td>\n",
       "      <td>0.417360</td>\n",
       "      <td>29.974467</td>\n",
       "      <td>2001-01-01</td>\n",
       "    </tr>\n",
       "    <tr>\n",
       "      <th>1</th>\n",
       "      <td>1</td>\n",
       "      <td>1</td>\n",
       "      <td>2001</td>\n",
       "      <td>30.50</td>\n",
       "      <td>-22.97</td>\n",
       "      <td>1.939459</td>\n",
       "      <td>24.973081</td>\n",
       "      <td>2001-01-01</td>\n",
       "    </tr>\n",
       "    <tr>\n",
       "      <th>2</th>\n",
       "      <td>1</td>\n",
       "      <td>1</td>\n",
       "      <td>2001</td>\n",
       "      <td>31.59</td>\n",
       "      <td>-24.99</td>\n",
       "      <td>38.258316</td>\n",
       "      <td>24.669413</td>\n",
       "      <td>2001-01-01</td>\n",
       "    </tr>\n",
       "    <tr>\n",
       "      <th>3</th>\n",
       "      <td>1</td>\n",
       "      <td>1</td>\n",
       "      <td>2002</td>\n",
       "      <td>29.90</td>\n",
       "      <td>-22.27</td>\n",
       "      <td>0.117372</td>\n",
       "      <td>27.763040</td>\n",
       "      <td>2002-01-01</td>\n",
       "    </tr>\n",
       "    <tr>\n",
       "      <th>4</th>\n",
       "      <td>1</td>\n",
       "      <td>1</td>\n",
       "      <td>2002</td>\n",
       "      <td>30.50</td>\n",
       "      <td>-22.97</td>\n",
       "      <td>0.091737</td>\n",
       "      <td>23.332628</td>\n",
       "      <td>2002-01-01</td>\n",
       "    </tr>\n",
       "  </tbody>\n",
       "</table>\n",
       "</div>"
      ],
      "text/plain": [
       "   day  month  year  longitude  latitude   rainfall  temperature   datetime\n",
       "0    1      1  2001      29.90    -22.27   0.417360    29.974467 2001-01-01\n",
       "1    1      1  2001      30.50    -22.97   1.939459    24.973081 2001-01-01\n",
       "2    1      1  2001      31.59    -24.99  38.258316    24.669413 2001-01-01\n",
       "3    1      1  2002      29.90    -22.27   0.117372    27.763040 2002-01-01\n",
       "4    1      1  2002      30.50    -22.97   0.091737    23.332628 2002-01-01"
      ]
     },
     "execution_count": 22,
     "metadata": {},
     "output_type": "execute_result"
    }
   ],
   "source": [
    "df.head()"
   ]
  },
  {
   "cell_type": "markdown",
   "id": "focal-vietnamese",
   "metadata": {},
   "source": [
    "## Save data to file"
   ]
  },
  {
   "cell_type": "markdown",
   "id": "laden-water",
   "metadata": {},
   "source": [
    "### Watson Studio version (file appears in COS storage for your project)"
   ]
  },
  {
   "cell_type": "code",
   "execution_count": 27,
   "id": "pressed-bullet",
   "metadata": {},
   "outputs": [],
   "source": [
    "if running_watson_studio:\n",
    "    project.save_data(file_name = \"sample_climate_data.csv\",data = df.to_csv(index=False))"
   ]
  },
  {
   "cell_type": "markdown",
   "id": "liked-anger",
   "metadata": {},
   "source": [
    "### Local version"
   ]
  },
  {
   "cell_type": "code",
   "execution_count": 26,
   "id": "minor-dubai",
   "metadata": {},
   "outputs": [],
   "source": [
    "if not running_watson_studio:\n",
    "    df.to_csv(\"./sample-data/sample_climate_data.csv\", index=False) # csv file (dates become strings)"
   ]
  },
  {
   "cell_type": "markdown",
   "id": "formal-madrid",
   "metadata": {},
   "source": [
    "### Author and license\n",
    "\n",
    "Anne Jones is a Research Staff Member at IBM Research, specialising in AI for Climate Risk and Impacts. \n",
    "\n",
    "Copyright © 2021 IBM. This notebook and its source code are released under the terms of the MIT License."
   ]
  },
  {
   "cell_type": "code",
   "execution_count": null,
   "id": "constitutional-channel",
   "metadata": {},
   "outputs": [],
   "source": []
  }
 ],
 "metadata": {
  "kernelspec": {
   "display_name": "aiscope-analytics-py38",
   "language": "python",
   "name": "aiscope-analytics-py38"
  },
  "language_info": {
   "codemirror_mode": {
    "name": "ipython",
    "version": 3
   },
   "file_extension": ".py",
   "mimetype": "text/x-python",
   "name": "python",
   "nbconvert_exporter": "python",
   "pygments_lexer": "ipython3",
   "version": "3.8.8"
  }
 },
 "nbformat": 4,
 "nbformat_minor": 5
}
