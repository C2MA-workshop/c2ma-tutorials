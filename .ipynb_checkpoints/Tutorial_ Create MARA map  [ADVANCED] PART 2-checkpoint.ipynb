{
 "cells": [
  {
   "cell_type": "markdown",
   "metadata": {},
   "source": [
    "### This hidden cell allows us to access data files in the Watson Studio project assets"
   ]
  },
  {
   "cell_type": "code",
   "execution_count": 1,
   "metadata": {},
   "outputs": [],
   "source": [
    "# @hidden_cell\n",
    "# The project token is an authorization token that is used to access project resources like data sources, connections, and used by platform APIs.\n",
    "from project_lib import Project\n",
    "project = Project(project_id='2780f1e4-61c7-4596-82fc-208d1529cfc2', project_access_token='p-7e3857e98f5324b1f2a9d3fc2a2469de6de3f7bb')\n",
    "pc = project.project_context\n"
   ]
  },
  {
   "cell_type": "markdown",
   "metadata": {},
   "source": [
    "### For local setup, specify the data directory here"
   ]
  },
  {
   "cell_type": "code",
   "execution_count": 6,
   "metadata": {},
   "outputs": [],
   "source": [
    "datadir = \"/Users/annejones/Downloads/\""
   ]
  },
  {
   "cell_type": "markdown",
   "metadata": {},
   "source": [
    "# Tutorial: Create MARA malaria map (advanced)\n",
    "\n",
    "# PART 2: Create and plot MARA transmission suitability\n",
    "\n",
    "This notebook series demonstrates how to:  \n",
    "(1) Query PAIRS using a user-defined function to return monthly climatologies for temperature and rainfall, for a user-specified polygon  \n",
    "(2) Create a MARA map of suitability for malaria transmission for the queried data, using numpy (helper functions to calculate the constituent layers are provided)  \n",
    "(3) For both, (1) and (2), Plot the results as a static image using matplotlib and an interactive map using folium "
   ]
  },
  {
   "cell_type": "markdown",
   "metadata": {},
   "source": [
    "## MARA algorithm"
   ]
  },
  {
   "cell_type": "markdown",
   "metadata": {},
   "source": [
    "The code calculates the MARA suitability model\n",
    "(Craig et al, 1999, Parasitology Today) \n",
    "\n",
    "1. The data are averaged over all years to give climate maps for each month.\n",
    "2. Tmin of the coldest month is calculated\n",
    "3. The MARA fuzzy suitability (Y) of each month is calculated for rainfall and mean temperature.\n",
    "4. The fuzzy suitability for Tmin is calculated.\n",
    "5. The MARA conditions for multiple months are applied to the results for (3) to calculate the highest suitability spanning 3 or 5 consecutive months. \n",
    "6. The conditions for Tmin are applied."
   ]
  },
  {
   "cell_type": "markdown",
   "metadata": {},
   "source": [
    "### Load basic libraries"
   ]
  },
  {
   "cell_type": "code",
   "execution_count": 3,
   "metadata": {},
   "outputs": [],
   "source": [
    "import numpy as np\n",
    "import pandas as pd\n",
    "import math\n",
    "import matplotlib.pyplot as plt\n",
    "from datetime import datetime\n",
    "import json"
   ]
  },
  {
   "cell_type": "markdown",
   "metadata": {},
   "source": [
    "## Load the pre-queried climate data and metdata\n",
    "TODO: Load from Watson Studio Data Assets"
   ]
  },
  {
   "cell_type": "code",
   "execution_count": 16,
   "metadata": {},
   "outputs": [],
   "source": [
    "def load_data(datadir, layer_str):\n",
    "    data=None\n",
    "    for i in range(12):\n",
    "        file_name =  'data_' + layer_str + '_' + str(i).zfill(2) + '.csv'\n",
    "        datanew = pd.read_csv(datadir + file_name, header=None).values\n",
    "        datanew = datanew.reshape(datanew.shape[0], datanew.shape[1], 1)\n",
    "        if i>0:\n",
    "            data = np.concatenate([data, datanew], axis=2)\n",
    "        else:\n",
    "            data = datanew\n",
    "    return data"
   ]
  },
  {
   "cell_type": "code",
   "execution_count": 19,
   "metadata": {},
   "outputs": [],
   "source": [
    "layer_str = 'CHIRPS rainfall'\n",
    "dataR = load_data(datadir, layer_str)"
   ]
  },
  {
   "cell_type": "code",
   "execution_count": 20,
   "metadata": {},
   "outputs": [],
   "source": [
    "layer_str = 'ERA5 temperature'\n",
    "dataT = load_data(datadir, layer_str)"
   ]
  },
  {
   "cell_type": "markdown",
   "metadata": {},
   "source": [
    "### Get the metadata (just load a single file to get the spatial info)"
   ]
  },
  {
   "cell_type": "code",
   "execution_count": null,
   "metadata": {},
   "outputs": [],
   "source": [
    "i=1\n",
    "layer_str = 'CHIRPS rainfall'\n",
    "with open(datadir + 'metadata_' + layer_str + '_' + str(i).zfill(2) + '.txt') as file:\n",
    "    metadata = json.load(file)"
   ]
  },
  {
   "cell_type": "code",
   "execution_count": null,
   "metadata": {},
   "outputs": [],
   "source": [
    "bbox = metadata['boundingBox']\n",
    "extent = [bbox['minLongitude'], bbox['maxLongitude'], bbox['minLatitude'], bbox['maxLatitude']]"
   ]
  },
  {
   "cell_type": "code",
   "execution_count": 30,
   "metadata": {},
   "outputs": [],
   "source": [
    "nx = dataR.shape[1]\n",
    "ny = dataR.shape[0]\n",
    "nmonths = 12"
   ]
  },
  {
   "cell_type": "markdown",
   "metadata": {},
   "source": [
    "## Data pre-processing - convert temperature to deg C and mm of rainfall per month"
   ]
  },
  {
   "cell_type": "code",
   "execution_count": 23,
   "metadata": {},
   "outputs": [],
   "source": [
    "dataT = dataT - 273.15"
   ]
  },
  {
   "cell_type": "code",
   "execution_count": 25,
   "metadata": {},
   "outputs": [],
   "source": [
    "dataR = dataR*30.0"
   ]
  },
  {
   "cell_type": "markdown",
   "metadata": {},
   "source": [
    "## Set parameters for the MARA model\n",
    "Further notes to be added  "
   ]
  },
  {
   "cell_type": "code",
   "execution_count": 26,
   "metadata": {},
   "outputs": [],
   "source": [
    "pi=math.pi\n",
    "UR=1.0 \n",
    "SR=80.0\n",
    "UTi=18.0\n",
    "STi=22.0\n",
    "STd=32.0\n",
    "UTd=40.0"
   ]
  },
  {
   "cell_type": "markdown",
   "metadata": {},
   "source": [
    "## Functions to calculate fuzzy suitability for each climate variable\n",
    "Functions define pointwise suitability for each element in the supplied array"
   ]
  },
  {
   "cell_type": "code",
   "execution_count": 31,
   "metadata": {},
   "outputs": [],
   "source": [
    "def rainfall_suitability(Rval, UR, SR):\n",
    "    if Rval < UR:\n",
    "        YR = 0.0 \n",
    "    else: \n",
    "        if Rval > SR:\n",
    "            YR = 1.0\n",
    "        else:\n",
    "            YR = 1.0-(math.cos(((Rval-UR)/(SR-UR))*pi/2.0))**2\n",
    "    return YR"
   ]
  },
  {
   "cell_type": "code",
   "execution_count": 32,
   "metadata": {},
   "outputs": [],
   "source": [
    "def temperature_suitability(Tval, UTi, STi):\n",
    "    if Tval < UTi:\n",
    "        YT = 0.0\n",
    "    else: \n",
    "        if Tval < STi:\n",
    "            YT = 1-((math.cos(((Tval-UTi)/(STi-UTi))*pi/2.0))**2)\n",
    "        else:\n",
    "            if Tval <= STd:\n",
    "                YT = 1.0\n",
    "            else: \n",
    "                if Tval <= UTd:\n",
    "                    YT = 1-((math.cos(((Tval-UTd)/(STd-UTd))*pi/2.0))**2)\n",
    "                else:\n",
    "                    YT = 0.0\n",
    "    return YT"
   ]
  },
  {
   "cell_type": "markdown",
   "metadata": {},
   "source": [
    "## Combined suitability"
   ]
  },
  {
   "cell_type": "code",
   "execution_count": 33,
   "metadata": {},
   "outputs": [],
   "source": [
    "def tr_suitabilty(YT, YR):\n",
    "    if YT < YR:\n",
    "        Y = YT\n",
    "    else:\n",
    "        Y = YR\n",
    "    return Y"
   ]
  },
  {
   "cell_type": "markdown",
   "metadata": {},
   "source": [
    "## Suitability according to (daily) Tmin of coldest month "
   ]
  },
  {
   "cell_type": "code",
   "execution_count": 34,
   "metadata": {},
   "outputs": [],
   "source": [
    "def tmin_suitability(Tminval):\n",
    "    U=4.0\n",
    "    S=6.0\n",
    "    if Tminval < U:\n",
    "        YTmin = 0.0\n",
    "    else:\n",
    "        if Tminval < S:\n",
    "            YTmin = 1 - (math.cos(((Tminval-U)/(S-U))*pi/2))**2\n",
    "        else:\n",
    "            YTmin = 1.0\n",
    "    return YTmin"
   ]
  },
  {
   "cell_type": "markdown",
   "metadata": {},
   "source": [
    "## Apply functions to T and R data arrays for each month and overall suitability"
   ]
  },
  {
   "cell_type": "code",
   "execution_count": 38,
   "metadata": {},
   "outputs": [],
   "source": [
    "vfunc = np.vectorize(rainfall_suitability)\n",
    "YR = vfunc(dataR, UR, SR)"
   ]
  },
  {
   "cell_type": "code",
   "execution_count": 39,
   "metadata": {},
   "outputs": [],
   "source": [
    "vfunc = np.vectorize(temperature_suitability)\n",
    "YT = vfunc(dataT, UTi, STi)"
   ]
  },
  {
   "cell_type": "code",
   "execution_count": 40,
   "metadata": {},
   "outputs": [],
   "source": [
    "vfunc = np.vectorize(tr_suitabilty)\n",
    "Y = vfunc(YT, YR)"
   ]
  },
  {
   "cell_type": "markdown",
   "metadata": {},
   "source": [
    "## Calculate Tmin suitability TODO - CREATE MONTHLY TMIN"
   ]
  },
  {
   "cell_type": "code",
   "execution_count": null,
   "metadata": {},
   "outputs": [],
   "source": [
    "vfunc = np.vectorize(tmin_suitability)\n",
    "YTmin = vfunc(Tmin_month)"
   ]
  },
  {
   "cell_type": "markdown",
   "metadata": {},
   "source": [
    "## Combine suitability across monthly to generate a single map"
   ]
  },
  {
   "cell_type": "markdown",
   "metadata": {},
   "source": [
    "### Function to handle suitability across time"
   ]
  },
  {
   "cell_type": "code",
   "execution_count": 76,
   "metadata": {},
   "outputs": [
    {
     "data": {
      "text/plain": [
       "False"
      ]
     },
     "execution_count": 76,
     "metadata": {},
     "output_type": "execute_result"
    }
   ],
   "source": [
    "not np.isnan(Y[0,0,:]).all()"
   ]
  },
  {
   "cell_type": "code",
   "execution_count": 80,
   "metadata": {},
   "outputs": [],
   "source": [
    "def monthly_conditions(Y_m,n):\n",
    "    if not np.isnan(Y_m).all():\n",
    "        #print('finding suitability')\n",
    "        MaxVal = 1.0\n",
    "        found = False\n",
    "        ymap_val=np.nan\n",
    "        while found==False:\n",
    "            for imonth in range(12):\n",
    "                ielt = list(range(imonth, imonth+n))\n",
    "                for i in range(n):\n",
    "                    if ielt[i] > 11:\n",
    "                        ielt[i] = ielt[i] - 12\n",
    "                if np.all(Y_m[ielt] >= MaxVal):\n",
    "                    ymap_val = MaxVal\n",
    "                    found = True\n",
    "            MaxVal = MaxVal - 0.1\n",
    "        if found==False:\n",
    "            ymap_val = 0.0\n",
    "    else:\n",
    "        return np.nan\n",
    "    return ymap_val"
   ]
  },
  {
   "cell_type": "markdown",
   "metadata": {},
   "source": [
    "## Compute the final map\n",
    "We use 5 consecutive months as all the locations are south of 8N"
   ]
  },
  {
   "cell_type": "markdown",
   "metadata": {},
   "source": [
    "### Calculate suitability across monthly "
   ]
  },
  {
   "cell_type": "code",
   "execution_count": 81,
   "metadata": {},
   "outputs": [],
   "source": [
    "Ymap = np.empty([ny, nx])\n",
    "for i in range(Ymap.shape[0]):\n",
    "  for j in range(Ymap.shape[1]):\n",
    "    Ymap[i,j] = monthly_conditions(Y[i,j,:], 5) "
   ]
  },
  {
   "cell_type": "markdown",
   "metadata": {},
   "source": [
    "### Combine with Tmin"
   ]
  },
  {
   "cell_type": "code",
   "execution_count": null,
   "metadata": {},
   "outputs": [],
   "source": [
    "Ymap = np.minimum(Ymap, YTmin)"
   ]
  },
  {
   "cell_type": "markdown",
   "metadata": {},
   "source": [
    "## Plot the results"
   ]
  },
  {
   "cell_type": "markdown",
   "metadata": {},
   "source": [
    "## Panel plot for multiple months"
   ]
  },
  {
   "cell_type": "code",
   "execution_count": 24,
   "metadata": {},
   "outputs": [
    {
     "name": "stdout",
     "output_type": "stream",
     "text": [
      "9.815148925781273 28.475579833984398\n"
     ]
    },
    {
     "data": {
      "image/png": "[encoded data removed]",
      "text/plain": [
       "<Figure size 1152x1152 with 24 Axes>"
      ]
     },
     "metadata": {
      "needs_background": "light"
     },
     "output_type": "display_data"
    }
   ],
   "source": [
    "id_string = pd.DataFrame(query.metadata).transpose().index[0]\n",
    "\n",
    "layer_str = 'Rainfall suitability'\n",
    "fig, axs = plt.subplots(4, 3, True, True, figsize = (16, 16))\n",
    "monthnames=['JAN', 'FEB', 'MAR', 'APR', 'MAY', 'JUN', 'JUL',\n",
    "           'AUG', 'SEP', 'OCT', 'NOV', 'DEC']\n",
    "ix=0\n",
    "iy=0\n",
    "vmin = np.nanmin(YR)\n",
    "vmax = np.nanmax(YR)\n",
    "print(vmin, vmax)\n",
    "for i in range(12):\n",
    "    plot = axs[ix, iy].imshow(YR[:,:,i], extent=extent, cmap=\"bwr\", vmin=vmin, vmax=vmax)\n",
    "    axs[ix,iy].set_title(layer_str + ' for ' + monthnames[i])\n",
    "    fig.colorbar(plot, ax=axs[ix,iy])\n",
    "    i+=1\n",
    "    iy+=1\n",
    "    if iy>2:\n",
    "        ix+=1\n",
    "        iy=0\n",
    "plt.show()"
   ]
  },
  {
   "cell_type": "code",
   "execution_count": null,
   "metadata": {},
   "outputs": [],
   "source": [
    "layer_str = 'Temperature suitability'\n",
    "fig, axs = plt.subplots(4, 3, True, True, figsize = (16, 16))\n",
    "monthnames=['JAN', 'FEB', 'MAR', 'APR', 'MAY', 'JUN', 'JUL',\n",
    "           'AUG', 'SEP', 'OCT', 'NOV', 'DEC']\n",
    "ix=0\n",
    "iy=0\n",
    "vmin = np.nanmin(YT)\n",
    "vmax = np.nanmax(YT)\n",
    "print(vmin, vmax)\n",
    "for i in range(12):\n",
    "    plot = axs[ix, iy].imshow(YT[:,:,i], extent=extent, cmap=\"bwr\", vmin=vmin, vmax=vmax)\n",
    "    axs[ix,iy].set_title(layer_str + ' for ' + monthnames[i])\n",
    "    fig.colorbar(plot, ax=axs[ix,iy])\n",
    "    i+=1\n",
    "    iy+=1\n",
    "    if iy>2:\n",
    "        ix+=1\n",
    "        iy=0\n",
    "plt.show()"
   ]
  },
  {
   "cell_type": "code",
   "execution_count": null,
   "metadata": {},
   "outputs": [],
   "source": [
    "layer_str = 'Combined suitability'\n",
    "fig, axs = plt.subplots(4, 3, True, True, figsize = (16, 16))\n",
    "monthnames=['JAN', 'FEB', 'MAR', 'APR', 'MAY', 'JUN', 'JUL',\n",
    "           'AUG', 'SEP', 'OCT', 'NOV', 'DEC']\n",
    "ix=0\n",
    "iy=0\n",
    "vmin = np.nanmin(Y)\n",
    "vmax = np.nanmax(Y)\n",
    "print(vmin, vmax)\n",
    "for i in range(12):\n",
    "    plot = axs[ix, iy].imshow(Y[:,:,i], extent=extent, cmap=\"bwr\", vmin=vmin, vmax=vmax)\n",
    "    axs[ix,iy].set_title(layer_str + ' for ' + monthnames[i])\n",
    "    fig.colorbar(plot, ax=axs[ix,iy])\n",
    "    i+=1\n",
    "    iy+=1\n",
    "    if iy>2:\n",
    "        ix+=1\n",
    "        iy=0\n",
    "plt.show()"
   ]
  },
  {
   "cell_type": "code",
   "execution_count": null,
   "metadata": {},
   "outputs": [],
   "source": [
    "\n",
    "layer_str = 'MARA suitability'\n",
    "fig, axs = plt.subplots(1, 1, True, True, figsize = (16, 16))\n",
    "monthnames=['JAN', 'FEB', 'MAR', 'APR', 'MAY', 'JUN', 'JUL',\n",
    "           'AUG', 'SEP', 'OCT', 'NOV', 'DEC']\n",
    "ix=0\n",
    "iy=0\n",
    "vmin = np.nanmin(Ymap)\n",
    "vmax = np.nanmax(Ymap)\n",
    "print(vmin, vmax)\n",
    "plot = axs[ix, iy].imshow(Ymap[:,:,i], extent=extent, cmap=\"bwr\", vmin=vmin, vmax=vmax)\n",
    "axs[ix,iy].set_title(layer_str)\n",
    "fig.colorbar(plot, ax=axs[ix,iy])\n",
    "plt.show()"
   ]
  }
 ],
 "metadata": {
  "kernelspec": {
   "display_name": "Python 3",
   "language": "python",
   "name": "python3"
  },
  "language_info": {
   "codemirror_mode": {
    "name": "ipython",
    "version": 3
   },
   "file_extension": ".py",
   "mimetype": "text/x-python",
   "name": "python",
   "nbconvert_exporter": "python",
   "pygments_lexer": "ipython3",
   "version": "3.8.5"
  }
 },
 "nbformat": 4,
 "nbformat_minor": 1
}
