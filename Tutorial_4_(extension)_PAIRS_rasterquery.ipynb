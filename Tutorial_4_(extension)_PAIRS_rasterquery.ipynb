{
 "cells": [
  {
   "cell_type": "markdown",
   "metadata": {},
   "source": [
    "# Tutorial 4: (extension) Query PAIRS for climate data in raster format\n",
    "\n",
    "In this tutorial you will:  \n",
    "1. Perform a raster query in PAIRS to retrieve temperature data\n",
    "2. Plot the results spatially with Matplotlib\n",
    "\n",
    "Full documentation and further PAIRS examples are available here: https://pairs.res.ibm.com/tutorial/tutorials/api/index.html\n",
    "\n",
    "### The relevant data layers in PAIRS, and corresponding layer ids are:  \n",
    "ERA5 temperature: id = 49423  \n",
    "ERA5 rainfall: id = 49459  \n",
    "CHIRPS rainfall: id = 49316  \n",
    "Land cover (Copernicus): id = 30003  \n",
    "NDVI (MODIS): id = 71  \n",
    "JRC Global Surface Water: id = 517  \n",
    "Global Population Density (SEDAC): id = 48774  "
   ]
  },
  {
   "cell_type": "markdown",
   "metadata": {},
   "source": [
    "# Preparatory steps"
   ]
  },
  {
   "cell_type": "markdown",
   "metadata": {},
   "source": [
    "### Set up Watson studio project token - replace this with a cell generated for your Watson Studio project"
   ]
  },
  {
   "cell_type": "code",
   "execution_count": 63,
   "metadata": {},
   "outputs": [],
   "source": [
    "# @hidden_cell\n",
    "# The project token is an authorization token that is used to access project resources like data sources, connections, and used by platform APIs.\n"
   ]
  },
  {
   "cell_type": "markdown",
   "metadata": {},
   "source": [
    "### Install the PAIRS api library  "
   ]
  },
  {
   "cell_type": "code",
   "execution_count": 3,
   "metadata": {},
   "outputs": [
    {
     "name": "stdout",
     "output_type": "stream",
     "text": [
      "Collecting ibmpairs\n",
      "  Downloading ibmpairs-0.1.3-py2.py3-none-any.whl (43 kB)\n",
      "\u001b[K     |████████████████████████████████| 43 kB 1.3 MB/s eta 0:00:01\n",
      "\u001b[?25hCollecting pandas\n",
      "  Downloading pandas-1.2.4-cp38-cp38-macosx_10_9_x86_64.whl (10.5 MB)\n",
      "\u001b[K     |████████████████████████████████| 10.5 MB 4.2 MB/s eta 0:00:01\n",
      "\u001b[?25hRequirement already satisfied: jsonschema in /opt/miniconda3/lib/python3.8/site-packages (from ibmpairs) (3.2.0)\n",
      "Collecting fs\n",
      "  Downloading fs-2.4.13-py2.py3-none-any.whl (131 kB)\n",
      "\u001b[K     |████████████████████████████████| 131 kB 3.8 MB/s eta 0:00:01\n",
      "\u001b[?25hCollecting futures\n",
      "  Using cached futures-3.1.1-py3-none-any.whl (2.8 kB)\n",
      "Collecting numpy\n",
      "  Downloading numpy-1.20.3-cp38-cp38-macosx_10_9_x86_64.whl (16.0 MB)\n",
      "\u001b[K     |████████████████████████████████| 16.0 MB 4.1 MB/s eta 0:00:01\n",
      "\u001b[?25hCollecting shapely\n",
      "  Using cached Shapely-1.7.1-cp38-cp38-macosx_10_9_x86_64.whl (1.0 MB)\n",
      "Requirement already satisfied: requests>=2.4 in /opt/miniconda3/lib/python3.8/site-packages (from ibmpairs) (2.24.0)\n",
      "Collecting pytz\n",
      "  Downloading pytz-2021.1-py2.py3-none-any.whl (510 kB)\n",
      "\u001b[K     |████████████████████████████████| 510 kB 3.7 MB/s eta 0:00:01\n",
      "\u001b[?25hCollecting Pillow>=1.6\n",
      "  Downloading Pillow-8.2.0-cp38-cp38-macosx_10_10_x86_64.whl (2.8 MB)\n",
      "\u001b[K     |████████████████████████████████| 2.8 MB 3.8 MB/s eta 0:00:01\n",
      "\u001b[?25hProcessing /Users/annejones/Library/Caches/pip/wheels/8e/70/28/3d6ccd6e315f65f245da085482a2e1c7d14b90b30f239e2cf4/future-0.18.2-py3-none-any.whl\n",
      "Requirement already satisfied: python-dateutil>=2.7.3 in /opt/miniconda3/lib/python3.8/site-packages (from pandas->ibmpairs) (2.8.1)\n",
      "Requirement already satisfied: setuptools in /opt/miniconda3/lib/python3.8/site-packages (from jsonschema->ibmpairs) (50.3.1.post20201107)\n",
      "Requirement already satisfied: attrs>=17.4.0 in /opt/miniconda3/lib/python3.8/site-packages (from jsonschema->ibmpairs) (20.3.0)\n",
      "Requirement already satisfied: six>=1.11.0 in /opt/miniconda3/lib/python3.8/site-packages (from jsonschema->ibmpairs) (1.15.0)\n",
      "Requirement already satisfied: pyrsistent>=0.14.0 in /opt/miniconda3/lib/python3.8/site-packages (from jsonschema->ibmpairs) (0.17.3)\n",
      "Collecting appdirs~=1.4.3\n",
      "  Using cached appdirs-1.4.4-py2.py3-none-any.whl (9.6 kB)\n",
      "Requirement already satisfied: idna<3,>=2.5 in /opt/miniconda3/lib/python3.8/site-packages (from requests>=2.4->ibmpairs) (2.10)\n",
      "Requirement already satisfied: urllib3!=1.25.0,!=1.25.1,<1.26,>=1.21.1 in /opt/miniconda3/lib/python3.8/site-packages (from requests>=2.4->ibmpairs) (1.25.11)\n",
      "Requirement already satisfied: chardet<4,>=3.0.2 in /opt/miniconda3/lib/python3.8/site-packages (from requests>=2.4->ibmpairs) (3.0.4)\n",
      "Requirement already satisfied: certifi>=2017.4.17 in /opt/miniconda3/lib/python3.8/site-packages (from requests>=2.4->ibmpairs) (2020.6.20)\n",
      "Installing collected packages: numpy, pytz, pandas, appdirs, fs, futures, shapely, Pillow, future, ibmpairs\n",
      "Successfully installed Pillow-8.2.0 appdirs-1.4.4 fs-2.4.13 future-0.18.2 futures-3.1.1 ibmpairs-0.1.3 numpy-1.20.3 pandas-1.2.4 pytz-2021.1 shapely-1.7.1\n"
     ]
    }
   ],
   "source": [
    "!pip install ibmpairs"
   ]
  },
  {
   "cell_type": "markdown",
   "metadata": {},
   "source": [
    "### Load other required libraries"
   ]
  },
  {
   "cell_type": "code",
   "execution_count": 1,
   "metadata": {},
   "outputs": [],
   "source": [
    "import numpy as np\n",
    "import pandas as pd\n",
    "import math\n",
    "import matplotlib.pyplot as plt"
   ]
  },
  {
   "cell_type": "markdown",
   "metadata": {},
   "source": [
    "### Connect to PAIRS - Watson Studio version\n",
    "1. Copy the text string of your api key into a text file called \"pairspass-<yourname>.txt\"\n",
    "    e.g. \"pairspass-annejones.txt\".  \n",
    "      \n",
    "2. Upload this file to your Watson Studio project assets: From the main project page, navigate to Assets -> Data assets. Click \"New Data asset +\". Drag and drop the file and wait for the upload to complete.  \n",
    "3. Replace the file name and email address below with your file name and the email address you registered for PAIRS access."
   ]
  },
  {
   "cell_type": "code",
   "execution_count": 4,
   "metadata": {},
   "outputs": [],
   "source": [
    "from ibmpairs import paw, authentication\n",
    "my_file = project.get_file(\"pairspass-annejones.txt\") \n",
    "PAIRS_API_KEY=my_file.readline().decode('utf-8') \n",
    "PAIRS_USER = \"anne.jones@ibm.com\" # REPLACE WITH YOUR USERNAME\n",
    "PAIRS_SERVER = \"https://pairs.res.ibm.com\"\n",
    "OAUTH = authentication.OAuth2(api_key = PAIRS_API_KEY )"
   ]
  },
  {
   "cell_type": "code",
   "execution_count": null,
   "metadata": {},
   "outputs": [],
   "source": [
    "### Connect to PAIRS - local version"
   ]
  },
  {
   "cell_type": "code",
   "execution_count": 7,
   "metadata": {},
   "outputs": [],
   "source": [
    "# Local version\n",
    "from ibmpairs import paw, authentication \n",
    "datadir = \"/Users/annejones/\"\n",
    "with open(datadir + \"/annejones-pairspass.txt\") as my_file:\n",
    "    PAIRS_API_KEY=my_file.readline()\n",
    "PAIRS_USER = \"anne.jones@ibm.com\" # REPLACE WITH YOUR USERNAME\n",
    "PAIRS_SERVER = \"https://pairs.res.ibm.com\"\n",
    "OAUTH = authentication.OAuth2(api_key = PAIRS_API_KEY )"
   ]
  },
  {
   "cell_type": "markdown",
   "metadata": {},
   "source": [
    "## PAIRS raster query"
   ]
  },
  {
   "cell_type": "markdown",
   "metadata": {},
   "source": [
    "### Query PAIRS for a bounding box covering Vhembe district, Limpopo"
   ]
  },
  {
   "cell_type": "code",
   "execution_count": 12,
   "metadata": {},
   "outputs": [],
   "source": [
    "latmin = -23.47\n",
    "latmax = -22.15\n",
    "lonmin = 28.92\n",
    "lonmax = 31.11\n",
    "\n",
    "id = 49423 # ERA 5 temperature"
   ]
  },
  {
   "cell_type": "markdown",
   "metadata": {},
   "source": [
    "### Create query json for a bounding box, for one snapshot"
   ]
  },
  {
   "cell_type": "code",
   "execution_count": 13,
   "metadata": {},
   "outputs": [],
   "source": [
    "query_json = {\n",
    "    \"layers\" : [\n",
    "        {\"type\" : \"raster\", \"id\" : id}\n",
    "    ],\n",
    "    \"spatial\" : {\n",
    "        \"type\" : \"square\",\n",
    "        \"coordinates\" : [latmin, lonmin, latmax, lonmax]\n",
    "    },\n",
    "    \"temporal\" : {\"intervals\" : [\n",
    "        {\"snapshot\" : \"2015-05-31T00:00:00Z\"}\n",
    "    ]}\n",
    "}"
   ]
  },
  {
   "cell_type": "markdown",
   "metadata": {},
   "source": [
    "### For a raster query, data is not returned instantly so we have to wait (this example should only take a few minutes)"
   ]
  },
  {
   "cell_type": "code",
   "execution_count": 14,
   "metadata": {},
   "outputs": [],
   "source": [
    "query = paw.PAIRSQuery(query_json, PAIRS_SERVER,  auth=OAUTH, authType='api-key')\n",
    "query.submit()"
   ]
  },
  {
   "cell_type": "markdown",
   "metadata": {},
   "source": [
    "### Refresh the cell below to monitor status of query"
   ]
  },
  {
   "cell_type": "code",
   "execution_count": 16,
   "metadata": {
    "scrolled": true
   },
   "outputs": [
    {
     "data": {
      "text/plain": [
       "{'id': '1623384000_15215820',\n",
       " 'status': 'Succeeded',\n",
       " 'start': 1623399215820,\n",
       " 'folder': '1623399215820',\n",
       " 'swLat': -23.469999,\n",
       " 'swLon': 28.92,\n",
       " 'neLat': -22.15,\n",
       " 'neLon': 31.110001,\n",
       " 'exPercent': 0.0,\n",
       " 'flag': False,\n",
       " 'hadoopId': '1602345287025_2998155',\n",
       " 'ready': True,\n",
       " 'rtStatus': 'Succeeded',\n",
       " 'statusCode': 20}"
      ]
     },
     "execution_count": 16,
     "metadata": {},
     "output_type": "execute_result"
    }
   ],
   "source": [
    "query.poll()\n",
    "query.queryStatus.json()"
   ]
  },
  {
   "cell_type": "markdown",
   "metadata": {},
   "source": [
    "### Retrieve the data"
   ]
  },
  {
   "cell_type": "code",
   "execution_count": 17,
   "metadata": {},
   "outputs": [
    {
     "name": "stderr",
     "output_type": "stream",
     "text": [
      "GDAL is not available for proper GeoTiff loading, default to standard PIL module to load raster data.\n"
     ]
    }
   ],
   "source": [
    "query.download()\n",
    "query.create_layers()"
   ]
  },
  {
   "cell_type": "markdown",
   "metadata": {},
   "source": [
    "### Get query metadata - this gives an id string which can be used to access metadata and the data itself"
   ]
  },
  {
   "cell_type": "code",
   "execution_count": 20,
   "metadata": {},
   "outputs": [
    {
     "data": {
      "text/plain": [
       "'Global weather (ERA5)-Temperature-05_31_2015T00_00_00'"
      ]
     },
     "execution_count": 20,
     "metadata": {},
     "output_type": "execute_result"
    }
   ],
   "source": [
    "id_string = pd.DataFrame(query.metadata).transpose().index[0]\n",
    "id_string"
   ]
  },
  {
   "cell_type": "code",
   "execution_count": 44,
   "metadata": {},
   "outputs": [],
   "source": [
    "id_string = pd.DataFrame(query.metadata).transpose().index[0]\n",
    "data = query.data[id_string]"
   ]
  },
  {
   "cell_type": "code",
   "execution_count": 45,
   "metadata": {},
   "outputs": [
    {
     "data": {
      "text/plain": [
       "{'pixelType': 'fl',\n",
       " 'pixelNoDataVal': -9999.0,\n",
       " 'spatialRef': 'EPSG:4326',\n",
       " 'boundingBox': {'minLatitude': -27.08544,\n",
       "  'maxLatitude': -18.696832,\n",
       "  'minLongitude': 25.520896,\n",
       "  'maxLongitude': 33.909504},\n",
       " 'pixelDimensions': {'pixelSizeDegreeLongitude': 0.131072,\n",
       "  'pixelSizeDegreeLatitude': 0.131072,\n",
       "  'numberPixelsLatitude': 64,\n",
       "  'numberPixelsLongitude': 64},\n",
       " 'rasterStatistics': {'pixelMin': 283.283142,\n",
       "  'pixelMax': 289.991699,\n",
       "  'pixelCount': 198,\n",
       "  'pixelMean': 286.255294,\n",
       "  'pixelStandardDeviation': 1.683487}}"
      ]
     },
     "execution_count": 45,
     "metadata": {},
     "output_type": "execute_result"
    }
   ],
   "source": [
    "query.metadata[id_string]['details']"
   ]
  },
  {
   "cell_type": "markdown",
   "metadata": {},
   "source": [
    "### By default, PAIRS returns data with a border of empty cells. This function removes that border and corrects the metadata"
   ]
  },
  {
   "cell_type": "code",
   "execution_count": 59,
   "metadata": {},
   "outputs": [],
   "source": [
    "def clean_pairs_raster(image, meta_data):\n",
    "    bbox = meta_data['details']['boundingBox']\n",
    "    y0 = bbox['minLatitude']\n",
    "    x0 = bbox['minLongitude']\n",
    "    \n",
    "    res_y = meta_data['details']['pixelDimensions']['pixelSizeDegreeLatitude']\n",
    "    res_x = meta_data['details']['pixelDimensions']['pixelSizeDegreeLongitude']\n",
    "\n",
    "    # find first row and column with non missing data\n",
    "    i = np.where(~np.isnan(image))\n",
    "    rowfirst = min(i[0])\n",
    "    rowlast = max(i[0])\n",
    "    colfirst = min(i[1])\n",
    "    collast = max(i[1])\n",
    "    #print(rowfirst, rowlast, colfirst, collast)\n",
    "    \n",
    "    image_clean = image[rowfirst:(rowlast+1), colfirst:(collast+1)]\n",
    "    ny = image_clean.shape[0]\n",
    "    nx = image_clean.shape[1]\n",
    "    x0 = x0 + res_x*colfirst\n",
    "    y0 = y0 + res_y*rowfirst\n",
    "    \n",
    "    xmax = x0 + res_x*nx\n",
    "    ymax = y0 + res_y*ny\n",
    "    \n",
    "    return image_clean, [y0, x0, ymax, xmax]"
   ]
  },
  {
   "cell_type": "markdown",
   "metadata": {},
   "source": [
    "### Apply the function to the data array and also correct the bounding box from the metadata"
   ]
  },
  {
   "cell_type": "code",
   "execution_count": 60,
   "metadata": {},
   "outputs": [],
   "source": [
    "cleaned_data, [y0, x0, ymax, xmax] = clean_pairs_raster(query.data[id_string], query.metadata[id_string])"
   ]
  },
  {
   "cell_type": "markdown",
   "metadata": {},
   "source": [
    "### Plot using matplotlib"
   ]
  },
  {
   "cell_type": "code",
   "execution_count": 62,
   "metadata": {},
   "outputs": [
    {
     "data": {
      "image/png": "[encoded data removed]",
      "text/plain": [
       "<Figure size 1152x1152 with 2 Axes>"
      ]
     },
     "metadata": {
      "needs_background": "light"
     },
     "output_type": "display_data"
    }
   ],
   "source": [
    "data_plot = cleaned_data - 273.15\n",
    "extent = [x0, xmax, y0, ymax] \n",
    "fig, ax = plt.subplots(1, 1, figsize = (16, 16))\n",
    "plot = ax.imshow(data_plot, extent=extent, cmap=\"bwr\")\n",
    "ax.set_title(\"ERA5 Temperature\")\n",
    "cax = fig.add_axes([ax.get_position().x1+0.01,ax.get_position().y0,0.02,ax.get_position().height])\n",
    "fig.colorbar(plot, cax=cax)\n",
    "plt.show()"
   ]
  },
  {
   "cell_type": "code",
   "execution_count": null,
   "metadata": {},
   "outputs": [],
   "source": []
  },
  {
   "cell_type": "markdown",
   "metadata": {},
   "source": [
    "### Author and license\n",
    "\n",
    "Anne Jones is a Research Staff Member at IBM Research, specialising in AI for Climate Risk and Impacts. \n",
    "\n",
    "Copyright © 2021 IBM. This notebook and its source code are released under the terms of the MIT License."
   ]
  },
  {
   "cell_type": "code",
   "execution_count": null,
   "metadata": {},
   "outputs": [],
   "source": []
  }
 ],
 "metadata": {
  "kernelspec": {
   "display_name": "aiscope-analytics-py38",
   "language": "python",
   "name": "aiscope-analytics-py38"
  },
  "language_info": {
   "codemirror_mode": {
    "name": "ipython",
    "version": 3
   },
   "file_extension": ".py",
   "mimetype": "text/x-python",
   "name": "python",
   "nbconvert_exporter": "python",
   "pygments_lexer": "ipython3",
   "version": "3.8.8"
  }
 },
 "nbformat": 4,
 "nbformat_minor": 1
}
